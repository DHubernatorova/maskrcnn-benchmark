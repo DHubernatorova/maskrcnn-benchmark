{
 "cells": [
  {
   "cell_type": "markdown",
   "metadata": {},
   "source": [
    "# Chata"
   ]
  },
  {
   "cell_type": "markdown",
   "metadata": {},
   "source": [
    "WARNING: maskrcnn_benchmark.config load global variables - in case of RuntimeError: Error(s) in loading state_dict for GeneralizedRCNN: size mismatch (...) try restart kernel"
   ]
  },
  {
   "cell_type": "code",
   "execution_count": 1,
   "metadata": {},
   "outputs": [],
   "source": [
    "model_date = \"2018_05_08\""
   ]
  },
  {
   "cell_type": "code",
   "execution_count": 2,
   "metadata": {},
   "outputs": [],
   "source": [
    "import matplotlib.pyplot as plt\n",
    "import matplotlib.pylab as pylab\n",
    "\n",
    "import importlib\n",
    "import requests\n",
    "from io import BytesIO\n",
    "from PIL import Image\n",
    "import numpy as np\n",
    "from demo.predictor_chata import ChataDemo\n",
    "from demo.predictor import COCODemo\n",
    "\n",
    "import maskrcnn_benchmark.config as config"
   ]
  },
  {
   "cell_type": "code",
   "execution_count": 3,
   "metadata": {},
   "outputs": [],
   "source": [
    "# this makes our figures bigger\n",
    "pylab.rcParams['figure.figsize'] = 20, 12"
   ]
  },
  {
   "cell_type": "code",
   "execution_count": 4,
   "metadata": {},
   "outputs": [],
   "source": [
    "def imshow(img):\n",
    "    plt.imshow(img[:, :, [2, 1, 0]])\n",
    "    plt.axis(\"off\")"
   ]
  },
  {
   "cell_type": "code",
   "execution_count": 5,
   "metadata": {},
   "outputs": [],
   "source": [
    "#dataset.get_groundtruth(10)\n",
    "#dataset.get_img_info(10)\n",
    "#dataset.map_class_id_to_class_name(0)\n",
    "#dataset.__getitem__(10)[0]"
   ]
  },
  {
   "cell_type": "code",
   "execution_count": 6,
   "metadata": {},
   "outputs": [],
   "source": [
    "#importlib.reload(config)\n",
    "#config.cfg"
   ]
  },
  {
   "cell_type": "code",
   "execution_count": 7,
   "metadata": {},
   "outputs": [],
   "source": [
    "def load(url):\n",
    "    \"\"\"\n",
    "    Given an url of an image, downloads the image and\n",
    "    returns a PIL image\n",
    "    \"\"\"\n",
    "    response = requests.get(url)\n",
    "    pil_image = Image.open(BytesIO(response.content)).convert(\"RGB\")\n",
    "    # convert to BGR format\n",
    "    image = np.array(pil_image)[:, :, [2, 1, 0]]\n",
    "    return image\n",
    "\n",
    "def imshow(img):\n",
    "    plt.imshow(img[:, :, [2, 1, 0]])\n",
    "    plt.axis(\"off\")"
   ]
  },
  {
   "cell_type": "code",
   "execution_count": 8,
   "metadata": {},
   "outputs": [],
   "source": [
    "# this makes our figures bigger\n",
    "pylab.rcParams['figure.figsize'] = 20, 12"
   ]
  },
  {
   "cell_type": "markdown",
   "metadata": {},
   "source": [
    "# Chata"
   ]
  },
  {
   "cell_type": "code",
   "execution_count": 9,
   "metadata": {},
   "outputs": [],
   "source": [
    "from maskrcnn_benchmark.data.datasets.chata import ChataDataset\n",
    "import imageio as imio\n",
    "import os"
   ]
  },
  {
   "cell_type": "code",
   "execution_count": 10,
   "metadata": {},
   "outputs": [],
   "source": [
    "# \"train\", \"test\", \"val\"\n",
    "charts_dataset = ChataDataset(\"./datasets/chata/charts\", \"val\")"
   ]
  },
  {
   "cell_type": "code",
   "execution_count": 11,
   "metadata": {},
   "outputs": [],
   "source": [
    "def save_sample_results(date, chata_demo, dataset, dataset_type=\"val\", img_range=(0,20)):\n",
    "    \n",
    "    os.makedirs(f\"chata_results/{date}_samples\", exist_ok=True)\n",
    "\n",
    "    for i in range(*img_range):\n",
    "        test_img = np.array(dataset.__getitem__(i)[0])\n",
    "        prediction = chata_demo.run_on_opencv_image(test_img)\n",
    "        #imshow(prediction)\n",
    "        imio.imwrite(f'chata_results/{date}_samples/{dataset_type}_{i:2d}.jpg', prediction)"
   ]
  },
  {
   "cell_type": "code",
   "execution_count": 12,
   "metadata": {},
   "outputs": [
    {
     "name": "stdout",
     "output_type": "stream",
     "text": [
      "Loading checkpoint from ./output/chata/2019_05_08/model_0175000.pth\n",
      "[Checkpointer._load_file] Model loading: ./output/chata/2019_05_08/model_0175000.pth\n"
     ]
    }
   ],
   "source": [
    "config_file = \"./configs/chata/e2e_faster_rcnn_R_50_C4_1x_1_gpu_voc_chata.yaml\"\n",
    "config.cfg.merge_from_file(config_file)\n",
    "config.cfg.merge_from_list([\"MODEL.DEVICE\", \"cpu\"])\n",
    "config.cfg.merge_from_list([\"OUTPUT_DIR\", \"./output/chata/2019_05_08\"])\n",
    "\n",
    "chata_demo = ChataDemo(\n",
    "    config.cfg,\n",
    "    min_image_size=800,\n",
    "    confidence_threshold=0.5,\n",
    ")"
   ]
  },
  {
   "cell_type": "code",
   "execution_count": 13,
   "metadata": {},
   "outputs": [
    {
     "name": "stdout",
     "output_type": "stream",
     "text": [
      "Labels: {'pie/donat_chart': 0.616784393787384}\n",
      "Labels: {'scatter_chart': 0.7536885142326355, 'line_chart': 0.7242999076843262}\n",
      "Labels: {'line_chart': 0.5204306840896606}\n",
      "Labels: {'box_chart': 0.9997091889381409}\n",
      "Labels: {'bar_chart': 0.7801631093025208, 'box_chart': 0.6575672626495361, 'scatter_chart': 0.508940577507019}\n",
      "Labels: {}\n",
      "Labels: {'pie/donat_chart': 0.8289043307304382, 'line_chart': 0.5512656569480896}\n",
      "Labels: {}\n",
      "Labels: {'box_chart': 0.9970706701278687}\n",
      "Labels: {'line_chart': 0.8134615421295166}\n",
      "Labels: {'bar_chart': 0.8362742066383362, 'line_chart': 0.560765266418457}\n",
      "Labels: {'other_chart': 0.9206874370574951, 'scatter_chart': 0.5733978748321533}\n",
      "Labels: {'box_chart': 0.9937636256217957}\n",
      "Labels: {'pie/donat_chart': 0.9404959678649902}\n",
      "Labels: {'bar_chart': 0.8897619247436523, 'other_object': 0.5799522399902344}\n",
      "Labels: {'box_chart': 0.977256178855896}\n",
      "Labels: {'box_chart': 0.9996211528778076}\n",
      "Labels: {'box_chart': 0.8444489240646362, 'scatter_chart': 0.5784417390823364}\n",
      "Labels: {}\n",
      "Labels: {'box_chart': 0.996046245098114}\n"
     ]
    }
   ],
   "source": [
    "save_sample_results(model_date, chata_demo, charts_dataset)"
   ]
  },
  {
   "cell_type": "markdown",
   "metadata": {},
   "source": [
    "# Training loss"
   ]
  },
  {
   "cell_type": "code",
   "execution_count": 14,
   "metadata": {},
   "outputs": [],
   "source": [
    "import re"
   ]
  },
  {
   "cell_type": "code",
   "execution_count": 15,
   "metadata": {},
   "outputs": [],
   "source": [
    "def print_loss(date, dataset_type=\"val\"):\n",
    "    os.makedirs(f\"./output/chata/{date}\", exist_ok=True)\n",
    "    os.makedirs(f\"./chata_results/{date}\", exist_ok=True)\n",
    "    with open(f\"./output/chata/{date}/log.txt\") as file:\n",
    "        logs = file.read()\n",
    "\n",
    "        for loss_type in [\"loss\", \"loss_classifier\", \"loss_box_reg\", \"loss_objectness\", \"loss_rpn_box_reg\"]:\n",
    "            loss = re.findall(f\"{loss_type}: [0-9]*.[0-9]* \\([0-9]*.[0-9]*\", logs)\n",
    "            loss = [x[len(loss_type)+2:] for x in loss]\n",
    "            \n",
    "            iterations = re.findall(f\"iter: [0-9]*\", logs)\n",
    "            iterations = [int(x[6:]) for x in iterations]\n",
    "            \n",
    "            plt.plot(iterations, [float(x.split(\"(\")[0]) for x in loss])\n",
    "            plt.plot(iterations, [float(x.split(\"(\")[1]) for x in loss])\n",
    "            plt.title(loss_type.upper())\n",
    "            plt.xlabel('Iteration', fontsize=14)\n",
    "            plt.ylabel('Loss value', fontsize=14)\n",
    "            plt.savefig(f\"./chata_results/{date}/{dataset_type}_{loss_type}.png\")\n",
    "            plt.clf()"
   ]
  },
  {
   "cell_type": "code",
   "execution_count": 16,
   "metadata": {},
   "outputs": [
    {
     "data": {
      "text/plain": [
       "<Figure size 1440x864 with 0 Axes>"
      ]
     },
     "metadata": {},
     "output_type": "display_data"
    }
   ],
   "source": [
    "print_loss(\"2019_05_08\")"
   ]
  },
  {
   "cell_type": "markdown",
   "metadata": {},
   "source": [
    "# Test on real dataset"
   ]
  },
  {
   "cell_type": "code",
   "execution_count": 17,
   "metadata": {},
   "outputs": [],
   "source": [
    "import cv2"
   ]
  },
  {
   "cell_type": "code",
   "execution_count": 19,
   "metadata": {},
   "outputs": [],
   "source": [
    "catalog_names = os.listdir(\"chata_results/images\")\n",
    "catalogs = [f\"chata_results/images/{name}\" for name in catalog_names]"
   ]
  },
  {
   "cell_type": "code",
   "execution_count": 20,
   "metadata": {},
   "outputs": [
    {
     "name": "stdout",
     "output_type": "stream",
     "text": [
      "Labels: {}\n",
      "Labels: {'table': 0.7076946496963501}\n",
      "Labels: {}\n",
      "Labels: {'table': 0.6234707832336426}\n",
      "Labels: {}\n",
      "Labels: {'table': 0.9276330471038818}\n",
      "Labels: {'table': 0.6365758776664734}\n",
      "Labels: {}\n",
      "Labels: {}\n",
      "Labels: {}\n",
      "Labels: {}\n",
      "Labels: {}\n",
      "Labels: {}\n",
      "Labels: {}\n",
      "Labels: {}\n",
      "Labels: {}\n",
      "Labels: {}\n",
      "Labels: {}\n",
      "Labels: {}\n",
      "Labels: {}\n",
      "Labels: {}\n",
      "Labels: {}\n",
      "Labels: {}\n",
      "Labels: {}\n",
      "Labels: {}\n",
      "Labels: {}\n",
      "Labels: {}\n",
      "Labels: {}\n",
      "Labels: {}\n",
      "Labels: {}\n",
      "Labels: {}\n",
      "Labels: {}\n",
      "Labels: {}\n",
      "Labels: {}\n",
      "Labels: {}\n",
      "Labels: {}\n",
      "Labels: {}\n",
      "Labels: {}\n",
      "Labels: {}\n",
      "Labels: {}\n",
      "Labels: {}\n",
      "Labels: {}\n",
      "Labels: {'table': 0.9473521113395691}\n",
      "Labels: {}\n",
      "Labels: {}\n",
      "Labels: {}\n",
      "Labels: {}\n",
      "Labels: {}\n",
      "Labels: {}\n",
      "Labels: {}\n",
      "Labels: {}\n",
      "Labels: {}\n",
      "Labels: {}\n",
      "Labels: {}\n",
      "Labels: {}\n",
      "Labels: {'box_chart': 0.7445366978645325}\n",
      "Labels: {'pie/donat_chart': 0.5329607129096985}\n",
      "Labels: {}\n",
      "Labels: {}\n",
      "Labels: {}\n",
      "Labels: {}\n",
      "Labels: {}\n",
      "Labels: {'pie/donat_chart': 0.7666131258010864, 'bar_chart': 0.5391120314598083}\n",
      "Labels: {'box_chart': 0.9521124958992004}\n",
      "Labels: {}\n",
      "Labels: {}\n",
      "Labels: {}\n",
      "Labels: {}\n",
      "Labels: {}\n",
      "Labels: {}\n",
      "Labels: {'line_chart': 0.9912012815475464, 'table': 0.8890948295593262}\n"
     ]
    }
   ],
   "source": [
    "for catalog in catalogs:\n",
    "    os.makedirs(f'{catalog}/{model_date}', exist_ok=True)\n",
    "    for img_name in os.listdir(catalog):\n",
    "        if \"png\" in img_name:\n",
    "            test_img = cv2.imread(f\"{catalog}/{img_name}\")\n",
    "            test_img = cv2.cvtColor(test_img, cv2.COLOR_BGR2RGB)\n",
    "            #imshow(test_img)\n",
    "            prediction = chata_demo.run_on_opencv_image(test_img)\n",
    "            imio.imwrite(f'{catalog}/{model_date}/{img_name}', prediction)"
   ]
  },
  {
   "cell_type": "code",
   "execution_count": null,
   "metadata": {},
   "outputs": [],
   "source": []
  }
 ],
 "metadata": {
  "kernelspec": {
   "display_name": "Python (maskrcnn_benchmark)",
   "language": "python",
   "name": "maskrcnn_benchmark"
  },
  "language_info": {
   "codemirror_mode": {
    "name": "ipython",
    "version": 3
   },
   "file_extension": ".py",
   "mimetype": "text/x-python",
   "name": "python",
   "nbconvert_exporter": "python",
   "pygments_lexer": "ipython3",
   "version": "3.7.1"
  }
 },
 "nbformat": 4,
 "nbformat_minor": 2
}
